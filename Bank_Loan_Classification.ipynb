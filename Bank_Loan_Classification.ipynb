{
  "nbformat": 4,
  "nbformat_minor": 0,
  "metadata": {
    "colab": {
      "name": "Nishtha Garg_Bank Loan Classification.ipynb",
      "provenance": [],
      "collapsed_sections": []
    },
    "kernelspec": {
      "name": "python3",
      "display_name": "Python 3"
    }
  },
  "cells": [
    {
      "cell_type": "code",
      "metadata": {
        "id": "MRp2SsaR2WXZ"
      },
      "source": [
        "import numpy as np    # For array operations\n",
        "import pandas as pd   # For DataFrames"
      ],
      "execution_count": null,
      "outputs": []
    },
    {
      "cell_type": "code",
      "metadata": {
        "colab": {
          "base_uri": "https://localhost:8080/",
          "height": 204
        },
        "id": "OFBjfiCs2njc",
        "outputId": "230b86c0-4d0b-4e6b-cbd2-78717c64fe11"
      },
      "source": [
        "unibank = pd.read_csv('UniversalBank.csv')\n",
        "unibank.head()"
      ],
      "execution_count": null,
      "outputs": [
        {
          "output_type": "execute_result",
          "data": {
            "text/html": [
              "<div>\n",
              "<style scoped>\n",
              "    .dataframe tbody tr th:only-of-type {\n",
              "        vertical-align: middle;\n",
              "    }\n",
              "\n",
              "    .dataframe tbody tr th {\n",
              "        vertical-align: top;\n",
              "    }\n",
              "\n",
              "    .dataframe thead th {\n",
              "        text-align: right;\n",
              "    }\n",
              "</style>\n",
              "<table border=\"1\" class=\"dataframe\">\n",
              "  <thead>\n",
              "    <tr style=\"text-align: right;\">\n",
              "      <th></th>\n",
              "      <th>ID</th>\n",
              "      <th>Age</th>\n",
              "      <th>Experience</th>\n",
              "      <th>Income</th>\n",
              "      <th>ZIP Code</th>\n",
              "      <th>Family</th>\n",
              "      <th>CCAvg</th>\n",
              "      <th>Education</th>\n",
              "      <th>Mortgage</th>\n",
              "      <th>Personal Loan</th>\n",
              "      <th>Securities Account</th>\n",
              "      <th>CD Account</th>\n",
              "      <th>Online</th>\n",
              "      <th>CreditCard</th>\n",
              "    </tr>\n",
              "  </thead>\n",
              "  <tbody>\n",
              "    <tr>\n",
              "      <th>0</th>\n",
              "      <td>1</td>\n",
              "      <td>25</td>\n",
              "      <td>1</td>\n",
              "      <td>49</td>\n",
              "      <td>91107</td>\n",
              "      <td>4</td>\n",
              "      <td>1.6</td>\n",
              "      <td>1</td>\n",
              "      <td>0</td>\n",
              "      <td>0</td>\n",
              "      <td>1</td>\n",
              "      <td>0</td>\n",
              "      <td>0</td>\n",
              "      <td>0</td>\n",
              "    </tr>\n",
              "    <tr>\n",
              "      <th>1</th>\n",
              "      <td>2</td>\n",
              "      <td>45</td>\n",
              "      <td>19</td>\n",
              "      <td>34</td>\n",
              "      <td>90089</td>\n",
              "      <td>3</td>\n",
              "      <td>1.5</td>\n",
              "      <td>1</td>\n",
              "      <td>0</td>\n",
              "      <td>0</td>\n",
              "      <td>1</td>\n",
              "      <td>0</td>\n",
              "      <td>0</td>\n",
              "      <td>0</td>\n",
              "    </tr>\n",
              "    <tr>\n",
              "      <th>2</th>\n",
              "      <td>3</td>\n",
              "      <td>39</td>\n",
              "      <td>15</td>\n",
              "      <td>11</td>\n",
              "      <td>94720</td>\n",
              "      <td>1</td>\n",
              "      <td>1.0</td>\n",
              "      <td>1</td>\n",
              "      <td>0</td>\n",
              "      <td>0</td>\n",
              "      <td>0</td>\n",
              "      <td>0</td>\n",
              "      <td>0</td>\n",
              "      <td>0</td>\n",
              "    </tr>\n",
              "    <tr>\n",
              "      <th>3</th>\n",
              "      <td>4</td>\n",
              "      <td>35</td>\n",
              "      <td>9</td>\n",
              "      <td>100</td>\n",
              "      <td>94112</td>\n",
              "      <td>1</td>\n",
              "      <td>2.7</td>\n",
              "      <td>2</td>\n",
              "      <td>0</td>\n",
              "      <td>0</td>\n",
              "      <td>0</td>\n",
              "      <td>0</td>\n",
              "      <td>0</td>\n",
              "      <td>0</td>\n",
              "    </tr>\n",
              "    <tr>\n",
              "      <th>4</th>\n",
              "      <td>5</td>\n",
              "      <td>35</td>\n",
              "      <td>8</td>\n",
              "      <td>45</td>\n",
              "      <td>91330</td>\n",
              "      <td>4</td>\n",
              "      <td>1.0</td>\n",
              "      <td>2</td>\n",
              "      <td>0</td>\n",
              "      <td>0</td>\n",
              "      <td>0</td>\n",
              "      <td>0</td>\n",
              "      <td>0</td>\n",
              "      <td>1</td>\n",
              "    </tr>\n",
              "  </tbody>\n",
              "</table>\n",
              "</div>"
            ],
            "text/plain": [
              "   ID  Age  Experience  ...  CD Account  Online  CreditCard\n",
              "0   1   25           1  ...           0       0           0\n",
              "1   2   45          19  ...           0       0           0\n",
              "2   3   39          15  ...           0       0           0\n",
              "3   4   35           9  ...           0       0           0\n",
              "4   5   35           8  ...           0       0           1\n",
              "\n",
              "[5 rows x 14 columns]"
            ]
          },
          "metadata": {
            "tags": []
          },
          "execution_count": 30
        }
      ]
    },
    {
      "cell_type": "code",
      "metadata": {
        "colab": {
          "base_uri": "https://localhost:8080/"
        },
        "id": "-LpHeoN029_K",
        "outputId": "8e8058bb-b0e3-421e-9eca-6fe9be7b24d2"
      },
      "source": [
        "## Check the datatype of each variable\n",
        "unibank.dtypes"
      ],
      "execution_count": null,
      "outputs": [
        {
          "output_type": "execute_result",
          "data": {
            "text/plain": [
              "ID                      int64\n",
              "Age                     int64\n",
              "Experience              int64\n",
              "Income                  int64\n",
              "ZIP Code                int64\n",
              "Family                  int64\n",
              "CCAvg                 float64\n",
              "Education               int64\n",
              "Mortgage                int64\n",
              "Personal Loan           int64\n",
              "Securities Account      int64\n",
              "CD Account              int64\n",
              "Online                  int64\n",
              "CreditCard              int64\n",
              "dtype: object"
            ]
          },
          "metadata": {
            "tags": []
          },
          "execution_count": 31
        }
      ]
    },
    {
      "cell_type": "code",
      "metadata": {
        "id": "o5U20h9n2_Nv"
      },
      "source": [
        "## Drop columns which are not significant\n",
        "del unibank['ID']\n",
        "del unibank[\"ZIP Code\"]"
      ],
      "execution_count": null,
      "outputs": []
    },
    {
      "cell_type": "code",
      "metadata": {
        "colab": {
          "base_uri": "https://localhost:8080/",
          "height": 204
        },
        "id": "vRDcA01oHt-X",
        "outputId": "c8b7a956-6031-4e1e-ffe0-3d2b11a81ac5"
      },
      "source": [
        "unibank.head()"
      ],
      "execution_count": null,
      "outputs": [
        {
          "output_type": "execute_result",
          "data": {
            "text/html": [
              "<div>\n",
              "<style scoped>\n",
              "    .dataframe tbody tr th:only-of-type {\n",
              "        vertical-align: middle;\n",
              "    }\n",
              "\n",
              "    .dataframe tbody tr th {\n",
              "        vertical-align: top;\n",
              "    }\n",
              "\n",
              "    .dataframe thead th {\n",
              "        text-align: right;\n",
              "    }\n",
              "</style>\n",
              "<table border=\"1\" class=\"dataframe\">\n",
              "  <thead>\n",
              "    <tr style=\"text-align: right;\">\n",
              "      <th></th>\n",
              "      <th>Age</th>\n",
              "      <th>Experience</th>\n",
              "      <th>Income</th>\n",
              "      <th>Family</th>\n",
              "      <th>CCAvg</th>\n",
              "      <th>Education</th>\n",
              "      <th>Mortgage</th>\n",
              "      <th>Personal Loan</th>\n",
              "      <th>Securities Account</th>\n",
              "      <th>CD Account</th>\n",
              "      <th>Online</th>\n",
              "      <th>CreditCard</th>\n",
              "    </tr>\n",
              "  </thead>\n",
              "  <tbody>\n",
              "    <tr>\n",
              "      <th>0</th>\n",
              "      <td>25</td>\n",
              "      <td>1</td>\n",
              "      <td>49</td>\n",
              "      <td>4</td>\n",
              "      <td>1.6</td>\n",
              "      <td>1</td>\n",
              "      <td>0</td>\n",
              "      <td>0</td>\n",
              "      <td>1</td>\n",
              "      <td>0</td>\n",
              "      <td>0</td>\n",
              "      <td>0</td>\n",
              "    </tr>\n",
              "    <tr>\n",
              "      <th>1</th>\n",
              "      <td>45</td>\n",
              "      <td>19</td>\n",
              "      <td>34</td>\n",
              "      <td>3</td>\n",
              "      <td>1.5</td>\n",
              "      <td>1</td>\n",
              "      <td>0</td>\n",
              "      <td>0</td>\n",
              "      <td>1</td>\n",
              "      <td>0</td>\n",
              "      <td>0</td>\n",
              "      <td>0</td>\n",
              "    </tr>\n",
              "    <tr>\n",
              "      <th>2</th>\n",
              "      <td>39</td>\n",
              "      <td>15</td>\n",
              "      <td>11</td>\n",
              "      <td>1</td>\n",
              "      <td>1.0</td>\n",
              "      <td>1</td>\n",
              "      <td>0</td>\n",
              "      <td>0</td>\n",
              "      <td>0</td>\n",
              "      <td>0</td>\n",
              "      <td>0</td>\n",
              "      <td>0</td>\n",
              "    </tr>\n",
              "    <tr>\n",
              "      <th>3</th>\n",
              "      <td>35</td>\n",
              "      <td>9</td>\n",
              "      <td>100</td>\n",
              "      <td>1</td>\n",
              "      <td>2.7</td>\n",
              "      <td>2</td>\n",
              "      <td>0</td>\n",
              "      <td>0</td>\n",
              "      <td>0</td>\n",
              "      <td>0</td>\n",
              "      <td>0</td>\n",
              "      <td>0</td>\n",
              "    </tr>\n",
              "    <tr>\n",
              "      <th>4</th>\n",
              "      <td>35</td>\n",
              "      <td>8</td>\n",
              "      <td>45</td>\n",
              "      <td>4</td>\n",
              "      <td>1.0</td>\n",
              "      <td>2</td>\n",
              "      <td>0</td>\n",
              "      <td>0</td>\n",
              "      <td>0</td>\n",
              "      <td>0</td>\n",
              "      <td>0</td>\n",
              "      <td>1</td>\n",
              "    </tr>\n",
              "  </tbody>\n",
              "</table>\n",
              "</div>"
            ],
            "text/plain": [
              "   Age  Experience  Income  ...  CD Account  Online  CreditCard\n",
              "0   25           1      49  ...           0       0           0\n",
              "1   45          19      34  ...           0       0           0\n",
              "2   39          15      11  ...           0       0           0\n",
              "3   35           9     100  ...           0       0           0\n",
              "4   35           8      45  ...           0       0           1\n",
              "\n",
              "[5 rows x 12 columns]"
            ]
          },
          "metadata": {
            "tags": []
          },
          "execution_count": 33
        }
      ]
    },
    {
      "cell_type": "markdown",
      "metadata": {
        "id": "aNUiQkiPXQbh"
      },
      "source": [
        "Correlation Plot"
      ]
    },
    {
      "cell_type": "code",
      "metadata": {
        "id": "309VCtPF3Ee_",
        "colab": {
          "base_uri": "https://localhost:8080/",
          "height": 269
        },
        "outputId": "f67f6628-69ee-492d-b3f9-c3e3fcf904d6"
      },
      "source": [
        "import pandas as pd\n",
        "import seaborn as sn\n",
        "import matplotlib.pyplot as plt\n",
        "\n",
        "df = pd.DataFrame(unibank,columns=['Age','Experience','Income','CCAvg','Mortgage'])\n",
        "\n",
        "corrMatrix = df.corr()\n",
        "sn.heatmap(corrMatrix, annot=True)\n",
        "plt.show()"
      ],
      "execution_count": null,
      "outputs": [
        {
          "output_type": "display_data",
          "data": {
            "image/png": "[encoded data removed]",
            "text/plain": [
              "<Figure size 432x288 with 2 Axes>"
            ]
          },
          "metadata": {
            "tags": [],
            "needs_background": "light"
          }
        }
      ]
    },
    {
      "cell_type": "code",
      "metadata": {
        "colab": {
          "base_uri": "https://localhost:8080/"
        },
        "id": "KCL4Z_pG3I0j",
        "outputId": "9907d6be-9e7b-4f35-dedf-f4456dd26da3"
      },
      "source": [
        "from sklearn.model_selection import train_test_split\n",
        "\n",
        "X = unibank.copy().drop(\"Personal Loan\",axis=1)\n",
        "y = unibank[\"Personal Loan\"]\n",
        "\n",
        "## Split the data into trainx, testx, trainy, testy with test_size = 0.20 using sklearn\n",
        "trainx, testx, trainy, testy = train_test_split(X, y, test_size=0.20)\n",
        "\n",
        "## Print the shape of X_train, X_test, y_train, y_test\n",
        "print(trainx.shape)\n",
        "print(testx.shape)\n",
        "print(trainy.shape)\n",
        "print(testy.shape)"
      ],
      "execution_count": null,
      "outputs": [
        {
          "output_type": "stream",
          "text": [
            "(4000, 11)\n",
            "(1000, 11)\n",
            "(4000,)\n",
            "(1000,)\n"
          ],
          "name": "stdout"
        }
      ]
    },
    {
      "cell_type": "markdown",
      "metadata": {
        "id": "_N6NI9MGSh41"
      },
      "source": [
        "# **Logistic Regression**"
      ]
    },
    {
      "cell_type": "code",
      "metadata": {
        "id": "HmK-3UDpSc8X"
      },
      "source": [
        "from sklearn.preprocessing import StandardScaler \n",
        "sc_x = StandardScaler() \n",
        "trainx = sc_x.fit_transform(trainx)  \n",
        "testx = sc_x.transform(testx)"
      ],
      "execution_count": null,
      "outputs": []
    },
    {
      "cell_type": "code",
      "metadata": {
        "colab": {
          "base_uri": "https://localhost:8080/"
        },
        "id": "4FMCuMeGSc5Y",
        "outputId": "4826a8e8-e2ac-4d42-87be-ba34d542ca6b"
      },
      "source": [
        "from sklearn.linear_model import LogisticRegression \n",
        "classifier = LogisticRegression(random_state = 10) \n",
        "classifier.fit(trainx, trainy)"
      ],
      "execution_count": null,
      "outputs": [
        {
          "output_type": "execute_result",
          "data": {
            "text/plain": [
              "LogisticRegression(C=1.0, class_weight=None, dual=False, fit_intercept=True,\n",
              "                   intercept_scaling=1, l1_ratio=None, max_iter=100,\n",
              "                   multi_class='auto', n_jobs=None, penalty='l2',\n",
              "                   random_state=10, solver='lbfgs', tol=0.0001, verbose=0,\n",
              "                   warm_start=False)"
            ]
          },
          "metadata": {
            "tags": []
          },
          "execution_count": 37
        }
      ]
    },
    {
      "cell_type": "code",
      "metadata": {
        "colab": {
          "base_uri": "https://localhost:8080/"
        },
        "id": "9Ti9kgYwScV3",
        "outputId": "84c4088c-378b-4850-a030-1d6eb6f88046"
      },
      "source": [
        "y_pred = classifier.predict(testx)\n",
        "from sklearn.metrics import accuracy_score \n",
        "print (\"Accuracy : \", accuracy_score(testy, y_pred))"
      ],
      "execution_count": null,
      "outputs": [
        {
          "output_type": "stream",
          "text": [
            "Accuracy :  0.944\n"
          ],
          "name": "stdout"
        }
      ]
    },
    {
      "cell_type": "markdown",
      "metadata": {
        "id": "kLbAjJFp4qkt"
      },
      "source": [
        "# **Support Vector Machine (SVM)**"
      ]
    },
    {
      "cell_type": "code",
      "metadata": {
        "colab": {
          "base_uri": "https://localhost:8080/"
        },
        "id": "aA4e5TqV4jrv",
        "outputId": "dd01ff4c-d89a-4bc4-cddc-73f85b30493d"
      },
      "source": [
        "from sklearn.svm import SVC\n",
        "\n",
        "## Create an SVC object and print it to see the default arguments\n",
        "svc = SVC()\n",
        "print(svc)"
      ],
      "execution_count": null,
      "outputs": [
        {
          "output_type": "stream",
          "text": [
            "SVC(C=1.0, break_ties=False, cache_size=200, class_weight=None, coef0=0.0,\n",
            "    decision_function_shape='ovr', degree=3, gamma='scale', kernel='rbf',\n",
            "    max_iter=-1, probability=False, random_state=None, shrinking=True,\n",
            "    tol=0.001, verbose=False)\n"
          ],
          "name": "stdout"
        }
      ]
    },
    {
      "cell_type": "code",
      "metadata": {
        "id": "L6Dev6IT4sH8"
      },
      "source": [
        "## Fit\n",
        "svc.fit(trainx,trainy)\n",
        "\n",
        "## Predict\n",
        "train_predictions = svc.predict(trainx)\n",
        "test_predictions = svc.predict(testx)"
      ],
      "execution_count": null,
      "outputs": []
    },
    {
      "cell_type": "code",
      "metadata": {
        "colab": {
          "base_uri": "https://localhost:8080/"
        },
        "id": "Pt8bxl8qjAcl",
        "outputId": "fed15d20-5c8c-430f-9fd6-7211e242de48"
      },
      "source": [
        "model_C = SVC(C=2)\n",
        "model_C.fit(trainx, trainy)\n",
        "model_C.score(testx, testy)\n"
      ],
      "execution_count": null,
      "outputs": [
        {
          "output_type": "execute_result",
          "data": {
            "text/plain": [
              "0.978"
            ]
          },
          "metadata": {
            "tags": []
          },
          "execution_count": 41
        }
      ]
    },
    {
      "cell_type": "code",
      "metadata": {
        "colab": {
          "base_uri": "https://localhost:8080/"
        },
        "id": "C0xLBywFjALX",
        "outputId": "70e0fe61-a6c7-4ce4-e206-e8a8dcc0c374"
      },
      "source": [
        "model_C = SVC(C=1)\n",
        "model_C.fit(trainx, trainy)\n",
        "model_C.score(testx, testy)"
      ],
      "execution_count": null,
      "outputs": [
        {
          "output_type": "execute_result",
          "data": {
            "text/plain": [
              "0.978"
            ]
          },
          "metadata": {
            "tags": []
          },
          "execution_count": 42
        }
      ]
    },
    {
      "cell_type": "code",
      "metadata": {
        "colab": {
          "base_uri": "https://localhost:8080/"
        },
        "id": "-IbXAspFi_xo",
        "outputId": "fa124b4c-5a5c-4972-aab4-9ac841efaf7a"
      },
      "source": [
        "model_g = SVC(gamma=0.002)\n",
        "model_g.fit(trainx, trainy)\n",
        "model_g.score(testx, testy)"
      ],
      "execution_count": null,
      "outputs": [
        {
          "output_type": "execute_result",
          "data": {
            "text/plain": [
              "0.941"
            ]
          },
          "metadata": {
            "tags": []
          },
          "execution_count": 43
        }
      ]
    },
    {
      "cell_type": "code",
      "metadata": {
        "colab": {
          "base_uri": "https://localhost:8080/"
        },
        "id": "sjmFjzHIjbU9",
        "outputId": "d8789abf-1681-4af7-e395-b855bda65a77"
      },
      "source": [
        "model_g = SVC(gamma=0.001)\n",
        "model_g.fit(trainx, trainy)\n",
        "model_g.score(testx, testy)"
      ],
      "execution_count": null,
      "outputs": [
        {
          "output_type": "execute_result",
          "data": {
            "text/plain": [
              "0.925"
            ]
          },
          "metadata": {
            "tags": []
          },
          "execution_count": 44
        }
      ]
    },
    {
      "cell_type": "code",
      "metadata": {
        "colab": {
          "base_uri": "https://localhost:8080/"
        },
        "id": "padEHvP7jbSV",
        "outputId": "86442615-3942-4acc-e5b4-5b1bd41c6f54"
      },
      "source": [
        "#Most optimised model at C=2 and gamma= 0.002\n",
        "#Kernel\n",
        "model_linear_kernal = SVC(kernel='linear',C=2,gamma=0.002)\n",
        "model_linear_kernal.fit(trainx, trainy)\n",
        "model_linear_kernal.score(testx, testy)"
      ],
      "execution_count": null,
      "outputs": [
        {
          "output_type": "execute_result",
          "data": {
            "text/plain": [
              "0.949"
            ]
          },
          "metadata": {
            "tags": []
          },
          "execution_count": 45
        }
      ]
    },
    {
      "cell_type": "code",
      "metadata": {
        "colab": {
          "base_uri": "https://localhost:8080/"
        },
        "id": "pNDY6VeVjbQO",
        "outputId": "032d0ab0-0cf4-48bd-cbf8-a4159c294774"
      },
      "source": [
        "model_g = SVC(kernel='rbf',gamma=0.002,C=2)\n",
        "model_g.fit(trainx, trainy)\n",
        "model_g.score(testx, testy)"
      ],
      "execution_count": null,
      "outputs": [
        {
          "output_type": "execute_result",
          "data": {
            "text/plain": [
              "0.945"
            ]
          },
          "metadata": {
            "tags": []
          },
          "execution_count": 46
        }
      ]
    },
    {
      "cell_type": "code",
      "metadata": {
        "colab": {
          "base_uri": "https://localhost:8080/"
        },
        "id": "8UCpCG1IVGnQ",
        "outputId": "4a814fab-cc87-459a-b463-b6a55c987085"
      },
      "source": [
        "from sklearn.model_selection import GridSearchCV\n",
        "from sklearn import svm\n",
        "clf= GridSearchCV(svm.SVC(gamma='auto'),{\n",
        "'C':[1,2,10,20],\n",
        "'kernel':['rbf','linear']\n",
        "},cv=5, return_train_score=False)\n",
        "clf.fit(trainx,trainy)\n",
        "score=clf.predict(testx)\n",
        "from sklearn.metrics import confusion_matrix\n",
        "CM = confusion_matrix(testy,score)\n",
        "CM"
      ],
      "execution_count": null,
      "outputs": [
        {
          "output_type": "execute_result",
          "data": {
            "text/plain": [
              "array([[893,  10],\n",
              "       [ 16,  81]])"
            ]
          },
          "metadata": {
            "tags": []
          },
          "execution_count": 47
        }
      ]
    },
    {
      "cell_type": "code",
      "metadata": {
        "id": "byBHpuoeTNgU",
        "colab": {
          "base_uri": "https://localhost:8080/"
        },
        "outputId": "002ae354-77f9-4556-b378-dcc5874543c1"
      },
      "source": [
        "from sklearn.model_selection import GridSearchCV\n",
        "from sklearn import svm\n",
        "clf = GridSearchCV(svm.SVC(gamma='auto'), {\n",
        "    'C': [1,2,10,20],\n",
        "    'kernel': ['rbf','linear']\n",
        "}, cv=5, return_train_score=False)\n",
        "clf.fit(unibank.drop('Personal Loan',1),unibank[\"Personal Loan\"])\n",
        "clf.cv_results_"
      ],
      "execution_count": null,
      "outputs": [
        {
          "output_type": "execute_result",
          "data": {
            "text/plain": [
              "{'mean_fit_time': array([  1.18865905,  11.28780994,   1.23748889,  19.17554913,\n",
              "          1.20156012, 102.06026468,   1.24568915, 117.97513361]),\n",
              " 'mean_score_time': array([0.2061306 , 0.00802007, 0.20381031, 0.00747418, 0.20111923,\n",
              "        0.00764785, 0.19205275, 0.00673451]),\n",
              " 'mean_test_score': array([0.907 , 0.9514, 0.9132, 0.9512, 0.9134, 0.9512, 0.9134, 0.9494]),\n",
              " 'param_C': masked_array(data=[1, 1, 2, 2, 10, 10, 20, 20],\n",
              "              mask=[False, False, False, False, False, False, False, False],\n",
              "        fill_value='?',\n",
              "             dtype=object),\n",
              " 'param_kernel': masked_array(data=['rbf', 'linear', 'rbf', 'linear', 'rbf', 'linear',\n",
              "                    'rbf', 'linear'],\n",
              "              mask=[False, False, False, False, False, False, False, False],\n",
              "        fill_value='?',\n",
              "             dtype=object),\n",
              " 'params': [{'C': 1, 'kernel': 'rbf'},\n",
              "  {'C': 1, 'kernel': 'linear'},\n",
              "  {'C': 2, 'kernel': 'rbf'},\n",
              "  {'C': 2, 'kernel': 'linear'},\n",
              "  {'C': 10, 'kernel': 'rbf'},\n",
              "  {'C': 10, 'kernel': 'linear'},\n",
              "  {'C': 20, 'kernel': 'rbf'},\n",
              "  {'C': 20, 'kernel': 'linear'}],\n",
              " 'rank_test_score': array([8, 1, 7, 2, 5, 2, 5, 4], dtype=int32),\n",
              " 'split0_test_score': array([0.905, 0.952, 0.913, 0.952, 0.912, 0.952, 0.912, 0.947]),\n",
              " 'split1_test_score': array([0.908, 0.949, 0.913, 0.947, 0.912, 0.946, 0.912, 0.945]),\n",
              " 'split2_test_score': array([0.907, 0.956, 0.913, 0.956, 0.916, 0.957, 0.916, 0.955]),\n",
              " 'split3_test_score': array([0.909, 0.948, 0.916, 0.949, 0.916, 0.945, 0.916, 0.944]),\n",
              " 'split4_test_score': array([0.906, 0.952, 0.911, 0.952, 0.911, 0.956, 0.911, 0.956]),\n",
              " 'std_fit_time': array([5.73919076e-02, 2.95785796e+00, 1.97150578e-02, 5.26561988e+00,\n",
              "        6.83481288e-02, 1.43633961e+01, 1.09310796e-01, 2.00667001e+01]),\n",
              " 'std_score_time': array([0.00287822, 0.00020855, 0.00104853, 0.0009044 , 0.00275555,\n",
              "        0.00024039, 0.01282052, 0.00017815]),\n",
              " 'std_test_score': array([0.00141421, 0.0028    , 0.0016    , 0.00305941, 0.00215407,\n",
              "        0.0049558 , 0.00215407, 0.00508331])}"
            ]
          },
          "metadata": {
            "tags": []
          },
          "execution_count": 48
        }
      ]
    },
    {
      "cell_type": "code",
      "metadata": {
        "id": "zcaR7n49TNKR",
        "colab": {
          "base_uri": "https://localhost:8080/",
          "height": 589
        },
        "outputId": "3716cfb9-9e16-4b66-e542-7692fda47779"
      },
      "source": [
        "df=pd.DataFrame(clf.cv_results_)\n",
        "df"
      ],
      "execution_count": null,
      "outputs": [
        {
          "output_type": "execute_result",
          "data": {
            "text/html": [
              "<div>\n",
              "<style scoped>\n",
              "    .dataframe tbody tr th:only-of-type {\n",
              "        vertical-align: middle;\n",
              "    }\n",
              "\n",
              "    .dataframe tbody tr th {\n",
              "        vertical-align: top;\n",
              "    }\n",
              "\n",
              "    .dataframe thead th {\n",
              "        text-align: right;\n",
              "    }\n",
              "</style>\n",
              "<table border=\"1\" class=\"dataframe\">\n",
              "  <thead>\n",
              "    <tr style=\"text-align: right;\">\n",
              "      <th></th>\n",
              "      <th>mean_fit_time</th>\n",
              "      <th>std_fit_time</th>\n",
              "      <th>mean_score_time</th>\n",
              "      <th>std_score_time</th>\n",
              "      <th>param_C</th>\n",
              "      <th>param_kernel</th>\n",
              "      <th>params</th>\n",
              "      <th>split0_test_score</th>\n",
              "      <th>split1_test_score</th>\n",
              "      <th>split2_test_score</th>\n",
              "      <th>split3_test_score</th>\n",
              "      <th>split4_test_score</th>\n",
              "      <th>mean_test_score</th>\n",
              "      <th>std_test_score</th>\n",
              "      <th>rank_test_score</th>\n",
              "    </tr>\n",
              "  </thead>\n",
              "  <tbody>\n",
              "    <tr>\n",
              "      <th>0</th>\n",
              "      <td>1.188659</td>\n",
              "      <td>0.057392</td>\n",
              "      <td>0.206131</td>\n",
              "      <td>0.002878</td>\n",
              "      <td>1</td>\n",
              "      <td>rbf</td>\n",
              "      <td>{'C': 1, 'kernel': 'rbf'}</td>\n",
              "      <td>0.905</td>\n",
              "      <td>0.908</td>\n",
              "      <td>0.907</td>\n",
              "      <td>0.909</td>\n",
              "      <td>0.906</td>\n",
              "      <td>0.9070</td>\n",
              "      <td>0.001414</td>\n",
              "      <td>8</td>\n",
              "    </tr>\n",
              "    <tr>\n",
              "      <th>1</th>\n",
              "      <td>11.287810</td>\n",
              "      <td>2.957858</td>\n",
              "      <td>0.008020</td>\n",
              "      <td>0.000209</td>\n",
              "      <td>1</td>\n",
              "      <td>linear</td>\n",
              "      <td>{'C': 1, 'kernel': 'linear'}</td>\n",
              "      <td>0.952</td>\n",
              "      <td>0.949</td>\n",
              "      <td>0.956</td>\n",
              "      <td>0.948</td>\n",
              "      <td>0.952</td>\n",
              "      <td>0.9514</td>\n",
              "      <td>0.002800</td>\n",
              "      <td>1</td>\n",
              "    </tr>\n",
              "    <tr>\n",
              "      <th>2</th>\n",
              "      <td>1.237489</td>\n",
              "      <td>0.019715</td>\n",
              "      <td>0.203810</td>\n",
              "      <td>0.001049</td>\n",
              "      <td>2</td>\n",
              "      <td>rbf</td>\n",
              "      <td>{'C': 2, 'kernel': 'rbf'}</td>\n",
              "      <td>0.913</td>\n",
              "      <td>0.913</td>\n",
              "      <td>0.913</td>\n",
              "      <td>0.916</td>\n",
              "      <td>0.911</td>\n",
              "      <td>0.9132</td>\n",
              "      <td>0.001600</td>\n",
              "      <td>7</td>\n",
              "    </tr>\n",
              "    <tr>\n",
              "      <th>3</th>\n",
              "      <td>19.175549</td>\n",
              "      <td>5.265620</td>\n",
              "      <td>0.007474</td>\n",
              "      <td>0.000904</td>\n",
              "      <td>2</td>\n",
              "      <td>linear</td>\n",
              "      <td>{'C': 2, 'kernel': 'linear'}</td>\n",
              "      <td>0.952</td>\n",
              "      <td>0.947</td>\n",
              "      <td>0.956</td>\n",
              "      <td>0.949</td>\n",
              "      <td>0.952</td>\n",
              "      <td>0.9512</td>\n",
              "      <td>0.003059</td>\n",
              "      <td>2</td>\n",
              "    </tr>\n",
              "    <tr>\n",
              "      <th>4</th>\n",
              "      <td>1.201560</td>\n",
              "      <td>0.068348</td>\n",
              "      <td>0.201119</td>\n",
              "      <td>0.002756</td>\n",
              "      <td>10</td>\n",
              "      <td>rbf</td>\n",
              "      <td>{'C': 10, 'kernel': 'rbf'}</td>\n",
              "      <td>0.912</td>\n",
              "      <td>0.912</td>\n",
              "      <td>0.916</td>\n",
              "      <td>0.916</td>\n",
              "      <td>0.911</td>\n",
              "      <td>0.9134</td>\n",
              "      <td>0.002154</td>\n",
              "      <td>5</td>\n",
              "    </tr>\n",
              "    <tr>\n",
              "      <th>5</th>\n",
              "      <td>102.060265</td>\n",
              "      <td>14.363396</td>\n",
              "      <td>0.007648</td>\n",
              "      <td>0.000240</td>\n",
              "      <td>10</td>\n",
              "      <td>linear</td>\n",
              "      <td>{'C': 10, 'kernel': 'linear'}</td>\n",
              "      <td>0.952</td>\n",
              "      <td>0.946</td>\n",
              "      <td>0.957</td>\n",
              "      <td>0.945</td>\n",
              "      <td>0.956</td>\n",
              "      <td>0.9512</td>\n",
              "      <td>0.004956</td>\n",
              "      <td>2</td>\n",
              "    </tr>\n",
              "    <tr>\n",
              "      <th>6</th>\n",
              "      <td>1.245689</td>\n",
              "      <td>0.109311</td>\n",
              "      <td>0.192053</td>\n",
              "      <td>0.012821</td>\n",
              "      <td>20</td>\n",
              "      <td>rbf</td>\n",
              "      <td>{'C': 20, 'kernel': 'rbf'}</td>\n",
              "      <td>0.912</td>\n",
              "      <td>0.912</td>\n",
              "      <td>0.916</td>\n",
              "      <td>0.916</td>\n",
              "      <td>0.911</td>\n",
              "      <td>0.9134</td>\n",
              "      <td>0.002154</td>\n",
              "      <td>5</td>\n",
              "    </tr>\n",
              "    <tr>\n",
              "      <th>7</th>\n",
              "      <td>117.975134</td>\n",
              "      <td>20.066700</td>\n",
              "      <td>0.006735</td>\n",
              "      <td>0.000178</td>\n",
              "      <td>20</td>\n",
              "      <td>linear</td>\n",
              "      <td>{'C': 20, 'kernel': 'linear'}</td>\n",
              "      <td>0.947</td>\n",
              "      <td>0.945</td>\n",
              "      <td>0.955</td>\n",
              "      <td>0.944</td>\n",
              "      <td>0.956</td>\n",
              "      <td>0.9494</td>\n",
              "      <td>0.005083</td>\n",
              "      <td>4</td>\n",
              "    </tr>\n",
              "  </tbody>\n",
              "</table>\n",
              "</div>"
            ],
            "text/plain": [
              "   mean_fit_time  std_fit_time  ...  std_test_score  rank_test_score\n",
              "0       1.188659      0.057392  ...        0.001414                8\n",
              "1      11.287810      2.957858  ...        0.002800                1\n",
              "2       1.237489      0.019715  ...        0.001600                7\n",
              "3      19.175549      5.265620  ...        0.003059                2\n",
              "4       1.201560      0.068348  ...        0.002154                5\n",
              "5     102.060265     14.363396  ...        0.004956                2\n",
              "6       1.245689      0.109311  ...        0.002154                5\n",
              "7     117.975134     20.066700  ...        0.005083                4\n",
              "\n",
              "[8 rows x 15 columns]"
            ]
          },
          "metadata": {
            "tags": []
          },
          "execution_count": 49
        }
      ]
    },
    {
      "cell_type": "code",
      "metadata": {
        "id": "5VTroWhLTiLp",
        "colab": {
          "base_uri": "https://localhost:8080/",
          "height": 297
        },
        "outputId": "4ba8ced1-b9ca-4206-c8f1-669a7cacdfa9"
      },
      "source": [
        "df[['param_C','param_kernel','mean_test_score']]"
      ],
      "execution_count": null,
      "outputs": [
        {
          "output_type": "execute_result",
          "data": {
            "text/html": [
              "<div>\n",
              "<style scoped>\n",
              "    .dataframe tbody tr th:only-of-type {\n",
              "        vertical-align: middle;\n",
              "    }\n",
              "\n",
              "    .dataframe tbody tr th {\n",
              "        vertical-align: top;\n",
              "    }\n",
              "\n",
              "    .dataframe thead th {\n",
              "        text-align: right;\n",
              "    }\n",
              "</style>\n",
              "<table border=\"1\" class=\"dataframe\">\n",
              "  <thead>\n",
              "    <tr style=\"text-align: right;\">\n",
              "      <th></th>\n",
              "      <th>param_C</th>\n",
              "      <th>param_kernel</th>\n",
              "      <th>mean_test_score</th>\n",
              "    </tr>\n",
              "  </thead>\n",
              "  <tbody>\n",
              "    <tr>\n",
              "      <th>0</th>\n",
              "      <td>1</td>\n",
              "      <td>rbf</td>\n",
              "      <td>0.9070</td>\n",
              "    </tr>\n",
              "    <tr>\n",
              "      <th>1</th>\n",
              "      <td>1</td>\n",
              "      <td>linear</td>\n",
              "      <td>0.9514</td>\n",
              "    </tr>\n",
              "    <tr>\n",
              "      <th>2</th>\n",
              "      <td>2</td>\n",
              "      <td>rbf</td>\n",
              "      <td>0.9132</td>\n",
              "    </tr>\n",
              "    <tr>\n",
              "      <th>3</th>\n",
              "      <td>2</td>\n",
              "      <td>linear</td>\n",
              "      <td>0.9512</td>\n",
              "    </tr>\n",
              "    <tr>\n",
              "      <th>4</th>\n",
              "      <td>10</td>\n",
              "      <td>rbf</td>\n",
              "      <td>0.9134</td>\n",
              "    </tr>\n",
              "    <tr>\n",
              "      <th>5</th>\n",
              "      <td>10</td>\n",
              "      <td>linear</td>\n",
              "      <td>0.9512</td>\n",
              "    </tr>\n",
              "    <tr>\n",
              "      <th>6</th>\n",
              "      <td>20</td>\n",
              "      <td>rbf</td>\n",
              "      <td>0.9134</td>\n",
              "    </tr>\n",
              "    <tr>\n",
              "      <th>7</th>\n",
              "      <td>20</td>\n",
              "      <td>linear</td>\n",
              "      <td>0.9494</td>\n",
              "    </tr>\n",
              "  </tbody>\n",
              "</table>\n",
              "</div>"
            ],
            "text/plain": [
              "  param_C param_kernel  mean_test_score\n",
              "0       1          rbf           0.9070\n",
              "1       1       linear           0.9514\n",
              "2       2          rbf           0.9132\n",
              "3       2       linear           0.9512\n",
              "4      10          rbf           0.9134\n",
              "5      10       linear           0.9512\n",
              "6      20          rbf           0.9134\n",
              "7      20       linear           0.9494"
            ]
          },
          "metadata": {
            "tags": []
          },
          "execution_count": 50
        }
      ]
    },
    {
      "cell_type": "markdown",
      "metadata": {
        "id": "FBTZuzvl3kfk"
      },
      "source": [
        "# **Naive Bayes**"
      ]
    },
    {
      "cell_type": "code",
      "metadata": {
        "colab": {
          "base_uri": "https://localhost:8080/"
        },
        "id": "8jEHlZKV3efF",
        "outputId": "3ab9c14a-1159-49b9-b92a-3a015fbb4238"
      },
      "source": [
        "from sklearn.naive_bayes import GaussianNB\n",
        "from sklearn.metrics import accuracy_score\n",
        "NB = GaussianNB()\n",
        "\n",
        "NB.fit(X , y)\n",
        "\n",
        "NB_train_pred = NB.predict(X)\n",
        "print(accuracy_score(y,NB_train_pred))\n",
        "\n",
        "NB_test_pred = NB.predict(testx)\n",
        "print(accuracy_score(testy,NB_test_pred))"
      ],
      "execution_count": null,
      "outputs": [
        {
          "output_type": "stream",
          "text": [
            "0.883\n",
            "0.897\n"
          ],
          "name": "stdout"
        }
      ]
    },
    {
      "cell_type": "markdown",
      "metadata": {
        "id": "hi0vGOYA3yJw"
      },
      "source": [
        "# **KNN**"
      ]
    },
    {
      "cell_type": "code",
      "metadata": {
        "id": "LZrIzStd3qiE"
      },
      "source": [
        "from sklearn.neighbors import KNeighborsClassifier\n",
        "from sklearn.model_selection import GridSearchCV\n",
        "\n",
        "knn_classifier = KNeighborsClassifier(algorithm='brute',weights='distance')\n",
        "params = {'n_neighbors':[1,11,25],'metric':[\"euclidean\",'cityblock']}\n",
        "grid = GridSearchCV(knn_classifier,param_grid=params,scoring='accuracy',cv=10)"
      ],
      "execution_count": null,
      "outputs": []
    },
    {
      "cell_type": "code",
      "metadata": {
        "colab": {
          "base_uri": "https://localhost:8080/"
        },
        "id": "muYMiv6f335r",
        "outputId": "4c8990a9-50b1-449d-fa98-ceb11190c151"
      },
      "source": [
        "grid.fit(trainx,trainy)\n",
        "print(grid.best_score_)\n",
        "print(grid.best_params_)"
      ],
      "execution_count": null,
      "outputs": [
        {
          "output_type": "stream",
          "text": [
            "0.9594999999999999\n",
            "{'metric': 'euclidean', 'n_neighbors': 1}\n"
          ],
          "name": "stdout"
        }
      ]
    },
    {
      "cell_type": "code",
      "metadata": {
        "colab": {
          "base_uri": "https://localhost:8080/"
        },
        "id": "KwhwNaTk37Fu",
        "outputId": "c5764af2-99d3-49f2-a980-372a4bbbefbc"
      },
      "source": [
        "best_knn = grid.best_estimator_\n",
        "pred_train = best_knn.predict(trainx) \n",
        "pred_test = best_knn.predict(testx)\n",
        "print(\"Accuracy on train is:\",accuracy_score(trainy,pred_train))\n",
        "print(\"Accuracy on test is:\",accuracy_score(testy,pred_test))"
      ],
      "execution_count": null,
      "outputs": [
        {
          "output_type": "stream",
          "text": [
            "Accuracy on train is: 1.0\n",
            "Accuracy on test is: 0.955\n"
          ],
          "name": "stdout"
        }
      ]
    },
    {
      "cell_type": "markdown",
      "metadata": {
        "id": "feTGfYe94K1v"
      },
      "source": [
        "# **Decison Tree**"
      ]
    },
    {
      "cell_type": "code",
      "metadata": {
        "colab": {
          "base_uri": "https://localhost:8080/"
        },
        "id": "VLIRmzz64Ecx",
        "outputId": "aaac781d-6aa3-43f2-b390-cadb5d3ed556"
      },
      "source": [
        "from sklearn import tree\n",
        "\n",
        "# Defining the model\n",
        "# Fit / train the model\n",
        "dtc = tree.DecisionTreeClassifier()\n",
        "dtc.fit(trainx,trainy)"
      ],
      "execution_count": null,
      "outputs": [
        {
          "output_type": "execute_result",
          "data": {
            "text/plain": [
              "DecisionTreeClassifier(ccp_alpha=0.0, class_weight=None, criterion='gini',\n",
              "                       max_depth=None, max_features=None, max_leaf_nodes=None,\n",
              "                       min_impurity_decrease=0.0, min_impurity_split=None,\n",
              "                       min_samples_leaf=1, min_samples_split=2,\n",
              "                       min_weight_fraction_leaf=0.0, presort='deprecated',\n",
              "                       random_state=None, splitter='best')"
            ]
          },
          "metadata": {
            "tags": []
          },
          "execution_count": 55
        }
      ]
    },
    {
      "cell_type": "code",
      "metadata": {
        "colab": {
          "base_uri": "https://localhost:8080/"
        },
        "id": "s81JypIW4PrF",
        "outputId": "3e614ad5-35cb-4551-f32d-5eb57804e11d"
      },
      "source": [
        "# Get the prediction for both train and test\n",
        "pred_train = dtc.predict(trainx)\n",
        "pred_test = dtc.predict(testx)\n",
        "# Measure the accuracy of the model for both train and test sets\n",
        "print(\"Accuracy on train is:\",accuracy_score(trainy,pred_train))\n",
        "print(\"Accuracy on test is:\",accuracy_score(testy,pred_test))"
      ],
      "execution_count": null,
      "outputs": [
        {
          "output_type": "stream",
          "text": [
            "Accuracy on train is: 1.0\n",
            "Accuracy on test is: 0.986\n"
          ],
          "name": "stdout"
        }
      ]
    },
    {
      "cell_type": "markdown",
      "metadata": {
        "id": "f1aS2Yka9b2S"
      },
      "source": [
        "# **Random Forest**"
      ]
    },
    {
      "cell_type": "code",
      "metadata": {
        "colab": {
          "base_uri": "https://localhost:8080/"
        },
        "id": "2Sbq3f6k9SuP",
        "outputId": "e997451a-b12a-4971-f1bd-ebaaf356d0d4"
      },
      "source": [
        "from sklearn.ensemble import RandomForestClassifier\n",
        "rfc = RandomForestClassifier()\n",
        "print(rfc)"
      ],
      "execution_count": null,
      "outputs": [
        {
          "output_type": "stream",
          "text": [
            "RandomForestClassifier(bootstrap=True, ccp_alpha=0.0, class_weight=None,\n",
            "                       criterion='gini', max_depth=None, max_features='auto',\n",
            "                       max_leaf_nodes=None, max_samples=None,\n",
            "                       min_impurity_decrease=0.0, min_impurity_split=None,\n",
            "                       min_samples_leaf=1, min_samples_split=2,\n",
            "                       min_weight_fraction_leaf=0.0, n_estimators=100,\n",
            "                       n_jobs=None, oob_score=False, random_state=None,\n",
            "                       verbose=0, warm_start=False)\n"
          ],
          "name": "stdout"
        }
      ]
    },
    {
      "cell_type": "code",
      "metadata": {
        "colab": {
          "base_uri": "https://localhost:8080/",
          "height": 231
        },
        "id": "KTtTSg_69jJ4",
        "outputId": "39b87621-d961-4650-fc9f-9d35cf81fe02"
      },
      "source": [
        "rfc.fit(trainx,trainy)\n",
        "## Predict\n",
        "rfc_train_predictions = rfc.predict(trainx)\n",
        "rfc_test_predictions = rfc.predict(testx)\n",
        "\n",
        "### Train data accuracy\n",
        "from sklearn.metrics import accuracy_score\n",
        "print(accuracy_score(trainy,rfc_train_predictions))\n",
        "      \n",
        "### Test data accuracy\n",
        "print(accuracy_score(testy,rfc_test_predictions))"
      ],
      "execution_count": null,
      "outputs": [
        {
          "output_type": "error",
          "ename": "NameError",
          "evalue": "ignored",
          "traceback": [
            "\u001b[0;31m---------------------------------------------------------------------------\u001b[0m",
            "\u001b[0;31mNameError\u001b[0m                                 Traceback (most recent call last)",
            "\u001b[0;32m<ipython-input-1-ce9ee83c0251>\u001b[0m in \u001b[0;36m<module>\u001b[0;34m()\u001b[0m\n\u001b[0;32m----> 1\u001b[0;31m \u001b[0mrfc\u001b[0m\u001b[0;34m.\u001b[0m\u001b[0mfit\u001b[0m\u001b[0;34m(\u001b[0m\u001b[0mtrainx\u001b[0m\u001b[0;34m,\u001b[0m\u001b[0mtrainy\u001b[0m\u001b[0;34m)\u001b[0m\u001b[0;34m\u001b[0m\u001b[0;34m\u001b[0m\u001b[0m\n\u001b[0m\u001b[1;32m      2\u001b[0m \u001b[0;31m## Predict\u001b[0m\u001b[0;34m\u001b[0m\u001b[0;34m\u001b[0m\u001b[0;34m\u001b[0m\u001b[0m\n\u001b[1;32m      3\u001b[0m \u001b[0mrfc_train_predictions\u001b[0m \u001b[0;34m=\u001b[0m \u001b[0mrfc\u001b[0m\u001b[0;34m.\u001b[0m\u001b[0mpredict\u001b[0m\u001b[0;34m(\u001b[0m\u001b[0mtrainx\u001b[0m\u001b[0;34m)\u001b[0m\u001b[0;34m\u001b[0m\u001b[0;34m\u001b[0m\u001b[0m\n\u001b[1;32m      4\u001b[0m \u001b[0mrfc_test_predictions\u001b[0m \u001b[0;34m=\u001b[0m \u001b[0mrfc\u001b[0m\u001b[0;34m.\u001b[0m\u001b[0mpredict\u001b[0m\u001b[0;34m(\u001b[0m\u001b[0mtestx\u001b[0m\u001b[0;34m)\u001b[0m\u001b[0;34m\u001b[0m\u001b[0;34m\u001b[0m\u001b[0m\n\u001b[1;32m      5\u001b[0m \u001b[0;34m\u001b[0m\u001b[0m\n",
            "\u001b[0;31mNameError\u001b[0m: name 'rfc' is not defined"
          ]
        }
      ]
    },
    {
      "cell_type": "markdown",
      "metadata": {
        "id": "GuImBBIV9pha"
      },
      "source": [
        "Search Grid for Hyper paramenter tuning\n",
        "\n",
        "\n"
      ]
    },
    {
      "cell_type": "code",
      "metadata": {
        "colab": {
          "base_uri": "https://localhost:8080/"
        },
        "id": "5i3DCd2Z9l57",
        "outputId": "d0b9aafb-2ed2-4b9c-9b7e-1a15242c6f99"
      },
      "source": [
        "from sklearn.model_selection import RandomizedSearchCV\n",
        "\n",
        "## n_jobs = -1 uses all cores of processor\n",
        "## max_features is the maximum number of attributes to select for each tree\n",
        "rfc_grid = RandomForestClassifier(n_jobs=-1, max_features='sqrt', class_weight='balanced_subsample')\n",
        " \n",
        "# Use a grid over parameters of interest\n",
        "## n_estimators is the number of trees in the forest\n",
        "## max_depth is how deep each tree can be\n",
        "## min_sample_leaf is the minimum samples required in each leaf node for the root node to split\n",
        "## \"A node will only be split if in each of it's leaf nodes there should be min_sample_leaf\"\n",
        " \n",
        "param_grid = {\"n_estimators\" : [10, 25, 50, 75, 100],\n",
        "           \"max_depth\" : [10, 12, 14, 16, 18, 20],\n",
        "           \"min_samples_leaf\" : [5, 10, 15, 20]}\n",
        "rfc_cv_grid = RandomizedSearchCV(estimator = rfc_grid, param_distributions = param_grid, cv = 3, n_iter=10)\n",
        "rfc_cv_grid.fit(trainx, trainy)\n",
        "rfc_cv_grid.best_estimator_"
      ],
      "execution_count": null,
      "outputs": [
        {
          "output_type": "execute_result",
          "data": {
            "text/plain": [
              "RandomForestClassifier(bootstrap=True, ccp_alpha=0.0,\n",
              "                       class_weight='balanced_subsample', criterion='gini',\n",
              "                       max_depth=20, max_features='sqrt', max_leaf_nodes=None,\n",
              "                       max_samples=None, min_impurity_decrease=0.0,\n",
              "                       min_impurity_split=None, min_samples_leaf=5,\n",
              "                       min_samples_split=2, min_weight_fraction_leaf=0.0,\n",
              "                       n_estimators=100, n_jobs=-1, oob_score=False,\n",
              "                       random_state=None, verbose=0, warm_start=False)"
            ]
          },
          "metadata": {
            "tags": []
          },
          "execution_count": 59
        }
      ]
    },
    {
      "cell_type": "code",
      "metadata": {
        "colab": {
          "base_uri": "https://localhost:8080/"
        },
        "id": "X28fw2G392qi",
        "outputId": "2142a1be-26fb-4bb9-cb93-e985d8356730"
      },
      "source": [
        "## Predict\n",
        "rfc2_train_predictions = rfc_cv_grid.predict(trainx)\n",
        "rfc2_test_predictions = rfc_cv_grid.predict(testx)\n",
        "\n",
        "print(accuracy_score(trainy,rfc2_train_predictions))\n",
        "      \n",
        "### Test data accuracy\n",
        "print(accuracy_score(testy,rfc2_test_predictions))"
      ],
      "execution_count": null,
      "outputs": [
        {
          "output_type": "stream",
          "text": [
            "0.988\n",
            "0.974\n"
          ],
          "name": "stdout"
        }
      ]
    }
  ]
}